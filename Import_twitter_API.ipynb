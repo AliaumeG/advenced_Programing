{
 "cells": [
  {
   "cell_type": "code",
   "execution_count": null,
   "metadata": {},
   "outputs": [],
   "source": [
    "###############\n",
    "### install ###\n",
    "###############\n",
    "'''\n",
    "pip install tweepy\n",
    "pip install pandas\n",
    "'''"
   ]
  },
  {
   "cell_type": "code",
   "execution_count": null,
   "metadata": {},
   "outputs": [],
   "source": [
    "########################################\n",
    "### import the data from Twitter API ###\n",
    "########################################\n",
    "\n",
    "import tweepy\n",
    "import pandas as pd\n",
    "\n",
    "api_key = 'XXXXX'\n",
    "api_key_secret = 'XXXXX'\n",
    "\n",
    "access_token = 'XXXXX'\n",
    "access_token_secret = 'XXXXX'\n",
    "\n",
    "\n",
    "auth = tweepy.OAuthHandler(api_key, api_key_secret)                                            # authentication\n",
    "auth.set_access_token(access_token, access_token_secret)\n",
    "api = tweepy.API(auth)\n",
    "\n",
    "\n",
    "keywords = '#BTC'                                                                               # search tweets\n",
    "new_search = keywords + \" -filter:retweets\"                                                     # Exclude retweets in our search\n",
    " \n",
    "date_until = \"\"                                                                       # Define until what date we are looking for tweets ex:\"2022-01-01\"  \n",
    "lang = \"\"                                                                                       #if we want to filter by language ex :lang = \"en\"\n",
    "\n",
    "limit=10                                                                                        #nb of tweets to import\n",
    "\n",
    "tweets = tweepy.Cursor(api.search_tweets, q=new_search, count=100, tweet_mode='extended',until=date_until,lang=lang).items(limit)   #The above code is using the tweepy library to search for tweets using the search term \"new_search\"\n",
    "\n",
    "\n",
    "\n",
    "columns = ['user_name', 'text','date','user_location','user_description','user_followers','user_friends','user_created','user_favourites','source']\n",
    "data = []                                                                                         #create DataFrame\n",
    "\n",
    "\n",
    "for tweet in tweets:                                                                               #The above code is appending the information of the tweet to the data list\n",
    "    data.append([tweet.user.screen_name, tweet.full_text, tweet.created_at, tweet.user.location, tweet.user.description,tweet.user.followers_count,tweet.user.friends_count,tweet.user.created_at,tweet.user.favourites_count,tweet.source])\n",
    "\n",
    "\n",
    "df = pd.DataFrame(data, columns=columns)                                                            #Creating a dataframe with the data and columns we have defined\n",
    "\n",
    "df.to_csv('data_twitter_api.csv')                                                                   #Saving the dataframe as a csv file"
   ]
  }
 ],
 "metadata": {
  "language_info": {
   "name": "python"
  },
  "orig_nbformat": 4
 },
 "nbformat": 4,
 "nbformat_minor": 2
}
