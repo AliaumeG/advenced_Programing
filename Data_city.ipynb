{
 "cells": [
  {
   "cell_type": "code",
   "execution_count": null,
   "metadata": {},
   "outputs": [],
   "source": [
    "###############\n",
    "### install ###\n",
    "###############\n",
    "'''\n",
    "\n",
    "pip install pandas\n",
    "\n",
    "'''"
   ]
  },
  {
   "cell_type": "code",
   "execution_count": null,
   "metadata": {},
   "outputs": [],
   "source": [
    "##############################################################\n",
    "### cleaning of city data, deletion of duplicate city data ###\n",
    "##############################################################\n",
    "\n",
    "import pandas as pd\n",
    "dfcity = pd.read_csv('worldcities.csv')                  #Reading the csv file and storing it in a dataframe called dfcity\n",
    "\n",
    "i = 0                                                    #i and e are the indexes of the cities in the dataframe dfcity\n",
    "e = 0\n",
    "to_drop = []                                             #creation of an empty list\n",
    "\n",
    "for city in dfcity['city']:\n",
    "    for city2 in dfcity['city']:\n",
    "        if city == city2 :                               #Comparing the city names in the dataframe dfcity\n",
    "            if i != e :                                  #if the index of the 2 citie with the same name is different\n",
    "                pope = dfcity.population[e]\n",
    "                popi = dfcity.population[i]\n",
    "                \n",
    "                if pope > popi:   \n",
    "                    to_drop.append(i)                    #for these 2 cities with the same name we add the index of the city with the least population to the list \n",
    "                    \n",
    "                elif popi>pope:\n",
    "                    to_drop.append(e)                     #for these 2 cities with the same name we add the index of the city with the least population to the list \n",
    "                    \n",
    "        e += 1                                             #add 1 to e to keep the index updated\n",
    "    i += 1                                                 #add 1 to i to keep the index updated\n",
    "    e = 0                                                  #reset the index to 0 as the loop starts again\n",
    "\n",
    "\n",
    "\n",
    "to_drop = list(set(to_drop))                               #many cities in the world have the same name so we delete duplicate elements\n",
    "to_drop.sort()                                             #It sorts the list in ascending order\n",
    "\n",
    "\n",
    "for i in (to_drop):\n",
    "    dfcity=dfcity.drop(i)                                  #Dropping the cities with the same name and the least population.\n",
    "\n",
    "dfcity.to_csv('data_city_update.csv')                      #Saving the dataframe dfcity in a csv file called data_city_update.csv"
   ]
  }
 ],
 "metadata": {
  "language_info": {
   "name": "python"
  },
  "orig_nbformat": 4
 },
 "nbformat": 4,
 "nbformat_minor": 2
}
