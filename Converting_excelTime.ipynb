{
 "cells": [
  {
   "cell_type": "code",
   "execution_count": null,
   "metadata": {},
   "outputs": [],
   "source": [
    "###############\n",
    "### install ###\n",
    "###############\n",
    "'''\n",
    "\n",
    "pip install pandas\n",
    "pip install xlrd\n",
    "\n",
    "'''"
   ]
  },
  {
   "cell_type": "code",
   "execution_count": null,
   "metadata": {},
   "outputs": [],
   "source": [
    "#########################################################################\n",
    "### Converting the date and time from excel format to datetime format ###\n",
    "#########################################################################\n",
    "\n",
    "import pandas as pd\n",
    "import xlrd\n",
    "\n",
    "df = pd.read_csv('data_tweet_with_location.csv') \n",
    "\n",
    "try:                                                            #Trying to remove the column 'Unnamed: 0' from the dataframe dfcity. If it fails, it will pass. Because pd.read_csv creates a column 'Unnamed: 0'\n",
    "    df.pop('Unnamed: 0')\n",
    "except KeyError as err:\n",
    "        pass\n",
    "\n",
    "### not useful using Twitter API ###\n",
    "a=0                                                             #The index of the first element\n",
    "while a < len(df):                                              #The above code is converting the date and time from excel format to datetime format\n",
    "    try:\n",
    "        user_created_date = xlrd.xldate_as_datetime(df.user_created[a], 0)\n",
    "        df.user_created[a]=user_created_date\n",
    "        tweet_date = xlrd.xldate_as_datetime(df.date[a], 0)\n",
    "        df.date[a]=tweet_date\n",
    "    except TypeError as err:\n",
    "        pass\n",
    "    \n",
    "    a+=1                                                         #add 1 to e to keep the index updated\n",
    "\n",
    "\n",
    "\n",
    "df.to_csv('data_tweet_with_location_and_date.csv')               #Saving the dataframe df to a csv file"
   ]
  }
 ],
 "metadata": {
  "language_info": {
   "name": "python"
  },
  "orig_nbformat": 4
 },
 "nbformat": 4,
 "nbformat_minor": 2
}
