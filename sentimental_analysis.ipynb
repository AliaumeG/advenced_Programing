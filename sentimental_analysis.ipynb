{
 "cells": [
  {
   "cell_type": "code",
   "execution_count": null,
   "metadata": {},
   "outputs": [],
   "source": [
    "###############\n",
    "### install ###\n",
    "###############\n",
    "'''\n",
    "pip install pandas\n",
    "pip install vaderSentiment\n",
    "pip install tqdm\n",
    "'''"
   ]
  },
  {
   "cell_type": "code",
   "execution_count": null,
   "metadata": {},
   "outputs": [],
   "source": [
    "###########################################\n",
    "### development of sentimental analysis ###\n",
    "###########################################\n",
    "import pandas as pd\n",
    "\n",
    "from vaderSentiment.vaderSentiment import SentimentIntensityAnalyzer\n",
    "from tqdm import tqdm\n",
    "\n",
    "df = pd.read_csv('data_tweet_with_location_and_date_hour.csv') \n",
    "\n",
    "try:                                                    #Trying to remove the column 'Unnamed: 0' from the dataframe dfcity. If it fails, it will pass. Because pd.read_csv creates a column 'Unnamed: 0'\n",
    "    df.pop('Unnamed: 0')\n",
    "except KeyError as err:\n",
    "        pass\n",
    "\n",
    "analyzer = SentimentIntensityAnalyzer()                  #Creating an object of the class SentimentIntensityAnalyzer\n",
    "\n",
    "sentiment = []                                            #Creating an empty list\n",
    "\n",
    "\n",
    "for i,s in enumerate(tqdm(df['tweet'],position=0, leave=True)):     #A for loop that iterates over the column 'tweet' \n",
    "    vs = analyzer.polarity_scores(str(s))                           #Creating a dictionary with the sentiment of the tweet\n",
    "    sentiment.append(vs[\"compound\"])                                ##Appending the value of the key 'compound' of the dictionary vs to the list sentiment\n",
    "\n",
    "df[\"sentiment\"] = sentiment                                 ##Creating a new column in the dataframe df called 'sentiment' and it is filling it with the values of the list sentiment\n",
    "\n",
    "df.to_csv('data_sentimental.csv')"
   ]
  }
 ],
 "metadata": {
  "interpreter": {
   "hash": "aee8b7b246df8f9039afb4144a1f6fd8d2ca17a180786b69acc140d282b71a49"
  },
  "kernelspec": {
   "display_name": "Python 3.10.4 64-bit",
   "language": "python",
   "name": "python3"
  },
  "language_info": {
   "codemirror_mode": {
    "name": "ipython",
    "version": 3
   },
   "file_extension": ".py",
   "mimetype": "text/x-python",
   "name": "python",
   "nbconvert_exporter": "python",
   "pygments_lexer": "ipython3",
   "version": "3.10.4"
  },
  "orig_nbformat": 4
 },
 "nbformat": 4,
 "nbformat_minor": 2
}
